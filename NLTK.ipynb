{
  "nbformat": 4,
  "nbformat_minor": 0,
  "metadata": {
    "colab": {
      "provenance": [],
      "collapsed_sections": []
    },
    "kernelspec": {
      "name": "python3",
      "display_name": "Python 3"
    },
    "language_info": {
      "name": "python"
    }
  },
  "cells": [
    {
      "cell_type": "code",
      "execution_count": 1,
      "metadata": {
        "colab": {
          "base_uri": "https://localhost:8080/"
        },
        "id": "bE23zvNaINUS",
        "outputId": "c2730c63-accf-447a-a872-c96bb4f48902"
      },
      "outputs": [
        {
          "output_type": "stream",
          "name": "stdout",
          "text": [
            "Looking in indexes: https://pypi.org/simple, https://us-python.pkg.dev/colab-wheels/public/simple/\n",
            "Requirement already satisfied: nltk in /usr/local/lib/python3.7/dist-packages (3.7)\n",
            "Requirement already satisfied: joblib in /usr/local/lib/python3.7/dist-packages (from nltk) (1.2.0)\n",
            "Requirement already satisfied: tqdm in /usr/local/lib/python3.7/dist-packages (from nltk) (4.64.1)\n",
            "Requirement already satisfied: regex>=2021.8.3 in /usr/local/lib/python3.7/dist-packages (from nltk) (2022.6.2)\n",
            "Requirement already satisfied: click in /usr/local/lib/python3.7/dist-packages (from nltk) (7.1.2)\n"
          ]
        }
      ],
      "source": [
        "pip install nltk"
      ]
    },
    {
      "cell_type": "code",
      "source": [
        "import nltk\n",
        "nltk.download()"
      ],
      "metadata": {
        "colab": {
          "base_uri": "https://localhost:8080/"
        },
        "id": "1mBK-GR7ISGS",
        "outputId": "80db1b05-3dc6-4957-f0ce-773b430e6c1e"
      },
      "execution_count": 2,
      "outputs": [
        {
          "name": "stdout",
          "output_type": "stream",
          "text": [
            "NLTK Downloader\n",
            "---------------------------------------------------------------------------\n",
            "    d) Download   l) List    u) Update   c) Config   h) Help   q) Quit\n",
            "---------------------------------------------------------------------------\n",
            "Downloader> d\n",
            "\n",
            "Download which package (l=list; x=cancel)?\n",
            "  Identifier> 1\n"
          ]
        },
        {
          "output_type": "stream",
          "name": "stderr",
          "text": [
            "    Error loading 1: Package '1' not found in index\n"
          ]
        },
        {
          "name": "stdout",
          "output_type": "stream",
          "text": [
            "\n",
            "---------------------------------------------------------------------------\n",
            "    d) Download   l) List    u) Update   c) Config   h) Help   q) Quit\n",
            "---------------------------------------------------------------------------\n",
            "Downloader> 1\n",
            "Command '1' unrecognized\n",
            "\n",
            "---------------------------------------------------------------------------\n",
            "    d) Download   l) List    u) Update   c) Config   h) Help   q) Quit\n",
            "---------------------------------------------------------------------------\n",
            "Downloader> abc\n",
            "Command 'abc' unrecognized\n",
            "\n",
            "---------------------------------------------------------------------------\n",
            "    d) Download   l) List    u) Update   c) Config   h) Help   q) Quit\n",
            "---------------------------------------------------------------------------\n",
            "Downloader> d\n",
            "\n",
            "Download which package (l=list; x=cancel)?\n",
            "  Identifier> abc\n"
          ]
        },
        {
          "output_type": "stream",
          "name": "stderr",
          "text": [
            "    Downloading package abc to /root/nltk_data...\n",
            "      Unzipping corpora/abc.zip.\n"
          ]
        },
        {
          "name": "stdout",
          "output_type": "stream",
          "text": [
            "\n",
            "---------------------------------------------------------------------------\n",
            "    d) Download   l) List    u) Update   c) Config   h) Help   q) Quit\n",
            "---------------------------------------------------------------------------\n",
            "Downloader> q\n"
          ]
        },
        {
          "output_type": "execute_result",
          "data": {
            "text/plain": [
              "True"
            ]
          },
          "metadata": {},
          "execution_count": 2
        }
      ]
    },
    {
      "cell_type": "code",
      "source": [
        "pip install Sastrawi"
      ],
      "metadata": {
        "colab": {
          "base_uri": "https://localhost:8080/"
        },
        "id": "Jc0vQPf2IqSg",
        "outputId": "c1ad8347-91e2-455e-e883-e270fd18d549"
      },
      "execution_count": 3,
      "outputs": [
        {
          "output_type": "stream",
          "name": "stdout",
          "text": [
            "Looking in indexes: https://pypi.org/simple, https://us-python.pkg.dev/colab-wheels/public/simple/\n",
            "Collecting Sastrawi\n",
            "  Downloading Sastrawi-1.0.1-py2.py3-none-any.whl (209 kB)\n",
            "\u001b[K     |████████████████████████████████| 209 kB 5.4 MB/s \n",
            "\u001b[?25hInstalling collected packages: Sastrawi\n",
            "Successfully installed Sastrawi-1.0.1\n"
          ]
        }
      ]
    },
    {
      "cell_type": "code",
      "source": [
        "# Case folding\n",
        "\n",
        "kalimatInput = \"Piyama birunya bergerak-gerak, rambut ikalnya bergoyang-goyang, ia buru-buru menyeret kakinya yang beralaskan sandal tidur berhias kepala kelinci. Bunda tetap gagap. Sekali lagi menghembuskan nafas panjang. Ya Allah, apa ia tak salah lihat? Apa ini untuk kesekian kalinya mimpi-mimpi itu menipunya? Bunda beranjak ingin memperbaiki selimut, Belum sempat. Menelan ludah. Kaget. Melati sudah kembali sambil berjinjit pelan membawa gelas besar. Cepat sekali? Hanya sekejap? Bagaimana mungkin? Bukankah dapur ada di lantai satu, berjarak 30 meter, melewati dua puluh anak tangga pualam melingkar berplitur dan berukiran mahal?\"\n",
        "lowerCase = kalimatInput.lower()\n",
        "print(lowerCase)"
      ],
      "metadata": {
        "colab": {
          "base_uri": "https://localhost:8080/"
        },
        "id": "uJQEL9qkKbrz",
        "outputId": "c61b354d-05b3-4678-f02e-5b67ae8c9739"
      },
      "execution_count": 7,
      "outputs": [
        {
          "output_type": "stream",
          "name": "stdout",
          "text": [
            "piyama birunya bergerak-gerak, rambut ikalnya bergoyang-goyang, ia buru-buru menyeret kakinya yang beralaskan sandal tidur berhias kepala kelinci. bunda tetap gagap. sekali lagi menghembuskan nafas panjang. ya allah, apa ia tak salah lihat? apa ini untuk kesekian kalinya mimpi-mimpi itu menipunya? bunda beranjak ingin memperbaiki selimut, belum sempat. menelan ludah. kaget. melati sudah kembali sambil berjinjit pelan membawa gelas besar. cepat sekali? hanya sekejap? bagaimana mungkin? bukankah dapur ada di lantai satu, berjarak 30 meter, melewati dua puluh anak tangga pualam melingkar berplitur dan berukiran mahal?\n"
          ]
        }
      ]
    },
    {
      "cell_type": "code",
      "source": [
        "# Menghapus tanda baca\n",
        "\n",
        "import string\n",
        "kalimatInput = lowerCase\n",
        "kalimatWithoutPunctuation = kalimatInput.translate(str.maketrans(\"\",\"\",string.punctuation))\n",
        "print(kalimatWithoutPunctuation)"
      ],
      "metadata": {
        "colab": {
          "base_uri": "https://localhost:8080/"
        },
        "id": "eami-qPSNYRB",
        "outputId": "0e555d46-7fc3-40ba-f533-cfd6ab5fa346"
      },
      "execution_count": 19,
      "outputs": [
        {
          "output_type": "stream",
          "name": "stdout",
          "text": [
            "piyama birunya bergerakgerak rambut ikalnya bergoyanggoyang ia buruburu menyeret kakinya yang beralaskan sandal tidur berhias kepala kelinci bunda tetap gagap sekali lagi menghembuskan nafas panjang ya allah apa ia tak salah lihat apa ini untuk kesekian kalinya mimpimimpi itu menipunya bunda beranjak ingin memperbaiki selimut belum sempat menelan ludah kaget melati sudah kembali sambil berjinjit pelan membawa gelas besar cepat sekali hanya sekejap bagaimana mungkin bukankah dapur ada di lantai satu berjarak 30 meter melewati dua puluh anak tangga pualam melingkar berplitur dan berukiran mahal\n"
          ]
        }
      ]
    },
    {
      "cell_type": "code",
      "source": [
        "# Tokenizing\n",
        "\n",
        "kalimatInput = kalimatWithoutPunctuation\n",
        "kalimatSplit = kalimatInput.split()\n",
        "print(kalimatSplit)"
      ],
      "metadata": {
        "colab": {
          "base_uri": "https://localhost:8080/"
        },
        "id": "mJTE_ZT1OZl5",
        "outputId": "9963a6a3-eaa7-492b-fc28-abc9d563b062"
      },
      "execution_count": 21,
      "outputs": [
        {
          "output_type": "stream",
          "name": "stdout",
          "text": [
            "['piyama', 'birunya', 'bergerakgerak', 'rambut', 'ikalnya', 'bergoyanggoyang', 'ia', 'buruburu', 'menyeret', 'kakinya', 'yang', 'beralaskan', 'sandal', 'tidur', 'berhias', 'kepala', 'kelinci', 'bunda', 'tetap', 'gagap', 'sekali', 'lagi', 'menghembuskan', 'nafas', 'panjang', 'ya', 'allah', 'apa', 'ia', 'tak', 'salah', 'lihat', 'apa', 'ini', 'untuk', 'kesekian', 'kalinya', 'mimpimimpi', 'itu', 'menipunya', 'bunda', 'beranjak', 'ingin', 'memperbaiki', 'selimut', 'belum', 'sempat', 'menelan', 'ludah', 'kaget', 'melati', 'sudah', 'kembali', 'sambil', 'berjinjit', 'pelan', 'membawa', 'gelas', 'besar', 'cepat', 'sekali', 'hanya', 'sekejap', 'bagaimana', 'mungkin', 'bukankah', 'dapur', 'ada', 'di', 'lantai', 'satu', 'berjarak', '30', 'meter', 'melewati', 'dua', 'puluh', 'anak', 'tangga', 'pualam', 'melingkar', 'berplitur', 'dan', 'berukiran', 'mahal']\n"
          ]
        }
      ]
    },
    {
      "cell_type": "code",
      "source": [
        "# Informasi frekuensi kemunculan\n",
        "\n",
        "nltk.download('punkt')\n",
        "from nltk.tokenize import word_tokenize\n",
        "from nltk.probability import FreqDist\n",
        "\n",
        "kalimatInputFreq = kalimatWithoutPunctuation.translate(str.maketrans(\"\",\"\",string.punctuation)).lower()\n",
        "tokens = nltk.tokenize.word_tokenize(kalimatInputFreq)\n",
        "kemunculan = nltk.FreqDist(tokens)\n",
        "print(kemunculan.most_common())\n"
      ],
      "metadata": {
        "colab": {
          "base_uri": "https://localhost:8080/"
        },
        "id": "DGaOku7ePrZo",
        "outputId": "b2fd6f4e-5aa4-4ba0-a99b-2c6f1816312c"
      },
      "execution_count": 24,
      "outputs": [
        {
          "output_type": "stream",
          "name": "stdout",
          "text": [
            "[('ia', 2), ('bunda', 2), ('sekali', 2), ('apa', 2), ('piyama', 1), ('birunya', 1), ('bergerakgerak', 1), ('rambut', 1), ('ikalnya', 1), ('bergoyanggoyang', 1), ('buruburu', 1), ('menyeret', 1), ('kakinya', 1), ('yang', 1), ('beralaskan', 1), ('sandal', 1), ('tidur', 1), ('berhias', 1), ('kepala', 1), ('kelinci', 1), ('tetap', 1), ('gagap', 1), ('lagi', 1), ('menghembuskan', 1), ('nafas', 1), ('panjang', 1), ('ya', 1), ('allah', 1), ('tak', 1), ('salah', 1), ('lihat', 1), ('ini', 1), ('untuk', 1), ('kesekian', 1), ('kalinya', 1), ('mimpimimpi', 1), ('itu', 1), ('menipunya', 1), ('beranjak', 1), ('ingin', 1), ('memperbaiki', 1), ('selimut', 1), ('belum', 1), ('sempat', 1), ('menelan', 1), ('ludah', 1), ('kaget', 1), ('melati', 1), ('sudah', 1), ('kembali', 1), ('sambil', 1), ('berjinjit', 1), ('pelan', 1), ('membawa', 1), ('gelas', 1), ('besar', 1), ('cepat', 1), ('hanya', 1), ('sekejap', 1), ('bagaimana', 1), ('mungkin', 1), ('bukankah', 1), ('dapur', 1), ('ada', 1), ('di', 1), ('lantai', 1), ('satu', 1), ('berjarak', 1), ('30', 1), ('meter', 1), ('melewati', 1), ('dua', 1), ('puluh', 1), ('anak', 1), ('tangga', 1), ('pualam', 1), ('melingkar', 1), ('berplitur', 1), ('dan', 1), ('berukiran', 1), ('mahal', 1)]\n"
          ]
        },
        {
          "output_type": "stream",
          "name": "stderr",
          "text": [
            "[nltk_data] Downloading package punkt to /root/nltk_data...\n",
            "[nltk_data]   Package punkt is already up-to-date!\n"
          ]
        }
      ]
    },
    {
      "cell_type": "code",
      "source": [
        "# Stopword removal (filtering)\n",
        "\n",
        "nltk.download('stopwords')\n",
        "from nltk.tokenize import sent_tokenize, word_tokenize\n",
        "from nltk.corpus import stopwords\n",
        "import string\n",
        "\n",
        "kalimatInputFiltering = kalimatWithoutPunctuation.translate(str.maketrans(\"\",\"\",string.punctuation)).lower()\n",
        "tokens = word_tokenize(kalimatInputFiltering)\n",
        "listStopword = set(stopwords.words('indonesian'))\n",
        "removed = []\n",
        "for t in tokens:\n",
        "  if t not in listStopword:\n",
        "    removed.append(t)\n",
        "\n",
        "print(removed)"
      ],
      "metadata": {
        "colab": {
          "base_uri": "https://localhost:8080/"
        },
        "id": "Fjsjp9dxSmE5",
        "outputId": "ae6db2f0-5ab1-4f46-b692-e4ac6e23699c"
      },
      "execution_count": 28,
      "outputs": [
        {
          "output_type": "stream",
          "name": "stdout",
          "text": [
            "['piyama', 'birunya', 'bergerakgerak', 'rambut', 'ikalnya', 'bergoyanggoyang', 'buruburu', 'menyeret', 'kakinya', 'beralaskan', 'sandal', 'tidur', 'berhias', 'kepala', 'kelinci', 'bunda', 'gagap', 'menghembuskan', 'nafas', 'ya', 'allah', 'salah', 'lihat', 'kesekian', 'kalinya', 'mimpimimpi', 'menipunya', 'bunda', 'beranjak', 'memperbaiki', 'selimut', 'menelan', 'ludah', 'kaget', 'melati', 'berjinjit', 'pelan', 'membawa', 'gelas', 'cepat', 'sekejap', 'dapur', 'lantai', 'berjarak', '30', 'meter', 'melewati', 'puluh', 'anak', 'tangga', 'pualam', 'melingkar', 'berplitur', 'berukiran', 'mahal']\n"
          ]
        },
        {
          "output_type": "stream",
          "name": "stderr",
          "text": [
            "[nltk_data] Downloading package stopwords to /root/nltk_data...\n",
            "[nltk_data]   Unzipping corpora/stopwords.zip.\n"
          ]
        }
      ]
    },
    {
      "cell_type": "code",
      "source": [
        "# Stemming \n",
        "\n",
        "from nltk.stem import PorterStemmer\n",
        "ps = PorterStemmer()\n",
        "kata = removed\n",
        "for k in kata:\n",
        "  print(k,\":\", ps.stem(k))"
      ],
      "metadata": {
        "colab": {
          "base_uri": "https://localhost:8080/"
        },
        "id": "x5caMZifW6me",
        "outputId": "8be8cba9-644c-487c-b7a0-b0a31b43fa27"
      },
      "execution_count": 31,
      "outputs": [
        {
          "output_type": "stream",
          "name": "stdout",
          "text": [
            "piyama : piyama\n",
            "birunya : birunya\n",
            "bergerakgerak : bergerakgerak\n",
            "rambut : rambut\n",
            "ikalnya : ikalnya\n",
            "bergoyanggoyang : bergoyanggoyang\n",
            "buruburu : buruburu\n",
            "menyeret : menyeret\n",
            "kakinya : kakinya\n",
            "beralaskan : beralaskan\n",
            "sandal : sandal\n",
            "tidur : tidur\n",
            "berhias : berhia\n",
            "kepala : kepala\n",
            "kelinci : kelinci\n",
            "bunda : bunda\n",
            "gagap : gagap\n",
            "menghembuskan : menghembuskan\n",
            "nafas : nafa\n",
            "ya : ya\n",
            "allah : allah\n",
            "salah : salah\n",
            "lihat : lihat\n",
            "kesekian : kesekian\n",
            "kalinya : kalinya\n",
            "mimpimimpi : mimpimimpi\n",
            "menipunya : menipunya\n",
            "bunda : bunda\n",
            "beranjak : beranjak\n",
            "memperbaiki : memperbaiki\n",
            "selimut : selimut\n",
            "menelan : menelan\n",
            "ludah : ludah\n",
            "kaget : kaget\n",
            "melati : melati\n",
            "berjinjit : berjinjit\n",
            "pelan : pelan\n",
            "membawa : membawa\n",
            "gelas : gela\n",
            "cepat : cepat\n",
            "sekejap : sekejap\n",
            "dapur : dapur\n",
            "lantai : lantai\n",
            "berjarak : berjarak\n",
            "30 : 30\n",
            "meter : meter\n",
            "melewati : melewati\n",
            "puluh : puluh\n",
            "anak : anak\n",
            "tangga : tangga\n",
            "pualam : pualam\n",
            "melingkar : melingkar\n",
            "berplitur : berplitur\n",
            "berukiran : berukiran\n",
            "mahal : mahal\n"
          ]
        }
      ]
    }
  ]
}